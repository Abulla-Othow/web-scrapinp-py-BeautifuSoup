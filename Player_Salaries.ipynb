{
  "nbformat": 4,
  "nbformat_minor": 0,
  "metadata": {
    "kernelspec": {
      "display_name": "Python 3",
      "language": "python",
      "name": "python3"
    },
    "colab": {
      "name": "Player Salaries.ipynb",
      "provenance": [],
      "include_colab_link": true
    }
  },
  "cells": [
    {
      "cell_type": "markdown",
      "metadata": {
        "id": "view-in-github",
        "colab_type": "text"
      },
      "source": [
        "<a href=\"https://colab.research.google.com/github/kogilo/web-scrapinp-py-BeautifuSoup/blob/master/Player_Salaries.ipynb\" target=\"_parent\"><img src=\"https://colab.research.google.com/assets/colab-badge.svg\" alt=\"Open In Colab\"/></a>"
      ]
    },
    {
      "cell_type": "code",
      "metadata": {
        "id": "V6TqjnsrgrSL"
      },
      "source": [
        "import requests\n",
        "from bs4 import BeautifulSoup\n",
        "import csv\n",
        "import pandas as pd\n",
        "import matplotlib.pyplot as plt\n",
        "import seaborn as sns\n",
        "# at the top of the file, before other imports\n",
        "import warnings\n",
        "warnings.filterwarnings('ignore')"
      ],
      "execution_count": 41,
      "outputs": []
    },
    {
      "cell_type": "code",
      "metadata": {
        "colab": {
          "base_uri": "https://localhost:8080/"
        },
        "id": "z8dcujJmi4Gm",
        "outputId": "f7831bc5-85e4-4103-b22f-386bb0a6b8c3"
      },
      "source": [
        "from google.colab import drive\n",
        "drive.mount('/content/drive')"
      ],
      "execution_count": 2,
      "outputs": [
        {
          "output_type": "stream",
          "text": [
            "Mounted at /content/drive\n"
          ],
          "name": "stdout"
        }
      ]
    },
    {
      "cell_type": "code",
      "metadata": {
        "id": "AVZedP0fgrSQ"
      },
      "source": [
        "# create a csv file to save data in\n",
        "f = open('playerSalariesData.csv', 'w', encoding='utf8', newline='')\n",
        "# create a writer to write data with to the newly created csv-file\n",
        "writer = csv.writer(f, delimiter=',')\n",
        "# use the writer to write the first row, the column headers, to the file\n",
        "writer.writerow([\"name\", \"team\", \"pos\", \"salary\", \"year\", \"total_value\", \"avg_annual\"])\n",
        "# set page you want to visit\n",
        "url = 'https://www.usatoday.com/sports/mlb/salaries/'\n",
        "# request html of page using the request library\n",
        "page = requests.get(url)\n",
        "# create soup - parse HTML of webpage\n",
        "soup = BeautifulSoup(page.content, 'html.parser')\n",
        "# select table from soup\n",
        "table = soup.find('table')\n",
        "# for every row in table...\n",
        "for row in table.find_all('tr'):\n",
        "        # ...save the data in each cell to cells\n",
        "        cells = row.find_all(['th', 'td'])\n",
        "        # ...get the data from each of the 6 cells and save to variables\n",
        "        name = cells[1].text.strip()\n",
        "        team = cells[2].text.strip()\n",
        "        pos = cells[3].text.strip()\n",
        "        salary = cells[4].text.strip()\n",
        "        year = cells[5].text.strip()\n",
        "        total_value = cells[6].text.strip()\n",
        "        avg_annual = cells[7].text.strip()\n",
        "        # create a list called rowData with all data from this row in there\n",
        "        rowData = [name, team, pos, salary, year, total_value, avg_annual ]\n",
        "\n",
        "        # ...write the data to the CSV file\n",
        "        writer.writerow(rowData)\n",
        "        \n",
        "# note that the indention ends here...\n",
        "# the next assignment does not need to be done for every row in table;\n",
        "# just closing the file once will do :)\n",
        "f.close()"
      ],
      "execution_count": 3,
      "outputs": []
    },
    {
      "cell_type": "code",
      "metadata": {
        "colab": {
          "base_uri": "https://localhost:8080/",
          "height": 111
        },
        "id": "_IcLxw69grSR",
        "outputId": "82edf2c5-8d44-4e40-8195-1f1c556465d5"
      },
      "source": [
        "df = pd.read_csv('/content/playerSalariesData.csv')\n",
        "df.head(2)"
      ],
      "execution_count": 4,
      "outputs": [
        {
          "output_type": "execute_result",
          "data": {
            "text/html": [
              "<div>\n",
              "<style scoped>\n",
              "    .dataframe tbody tr th:only-of-type {\n",
              "        vertical-align: middle;\n",
              "    }\n",
              "\n",
              "    .dataframe tbody tr th {\n",
              "        vertical-align: top;\n",
              "    }\n",
              "\n",
              "    .dataframe thead th {\n",
              "        text-align: right;\n",
              "    }\n",
              "</style>\n",
              "<table border=\"1\" class=\"dataframe\">\n",
              "  <thead>\n",
              "    <tr style=\"text-align: right;\">\n",
              "      <th></th>\n",
              "      <th>name</th>\n",
              "      <th>team</th>\n",
              "      <th>pos</th>\n",
              "      <th>salary</th>\n",
              "      <th>year</th>\n",
              "      <th>total_value</th>\n",
              "      <th>avg_annual</th>\n",
              "    </tr>\n",
              "  </thead>\n",
              "  <tbody>\n",
              "    <tr>\n",
              "      <th>0</th>\n",
              "      <td>Name</td>\n",
              "      <td>Team</td>\n",
              "      <td>POS</td>\n",
              "      <td>Salary</td>\n",
              "      <td>Years</td>\n",
              "      <td>Total Value</td>\n",
              "      <td>Avg Annual</td>\n",
              "    </tr>\n",
              "    <tr>\n",
              "      <th>1</th>\n",
              "      <td>Max Scherzer</td>\n",
              "      <td>WSH</td>\n",
              "      <td>SP</td>\n",
              "      <td>$42,142,857</td>\n",
              "      <td>7 (2015-21)</td>\n",
              "      <td>$210,000,000</td>\n",
              "      <td>$30,000,000</td>\n",
              "    </tr>\n",
              "  </tbody>\n",
              "</table>\n",
              "</div>"
            ],
            "text/plain": [
              "           name  team  pos       salary         year   total_value   avg_annual\n",
              "0          Name  Team  POS       Salary        Years   Total Value   Avg Annual\n",
              "1  Max Scherzer   WSH   SP  $42,142,857  7 (2015-21)  $210,000,000  $30,000,000"
            ]
          },
          "metadata": {
            "tags": []
          },
          "execution_count": 4
        }
      ]
    },
    {
      "cell_type": "code",
      "metadata": {
        "id": "LT-DNndIg070"
      },
      "source": [
        "#drop the first row\n",
        "df.drop(df.index[0], inplace=True)"
      ],
      "execution_count": 6,
      "outputs": []
    },
    {
      "cell_type": "code",
      "metadata": {
        "colab": {
          "base_uri": "https://localhost:8080/"
        },
        "id": "4h8tVzcSg-xu",
        "outputId": "ff7751d2-a11c-4760-c403-2d9fa7427a51"
      },
      "source": [
        "df.dtypes"
      ],
      "execution_count": 7,
      "outputs": [
        {
          "output_type": "execute_result",
          "data": {
            "text/plain": [
              "name           object\n",
              "team           object\n",
              "pos            object\n",
              "salary         object\n",
              "year           object\n",
              "total_value    object\n",
              "avg_annual     object\n",
              "dtype: object"
            ]
          },
          "metadata": {
            "tags": []
          },
          "execution_count": 7
        }
      ]
    },
    {
      "cell_type": "code",
      "metadata": {
        "colab": {
          "base_uri": "https://localhost:8080/"
        },
        "id": "Ftf7b4HI7BNN",
        "outputId": "9a863367-7d0b-42bc-9979-2ac6cd1559d2"
      },
      "source": [
        "df.shape"
      ],
      "execution_count": 8,
      "outputs": [
        {
          "output_type": "execute_result",
          "data": {
            "text/plain": [
              "(876, 7)"
            ]
          },
          "metadata": {
            "tags": []
          },
          "execution_count": 8
        }
      ]
    },
    {
      "cell_type": "markdown",
      "metadata": {
        "id": "K7ly0euD7Llx"
      },
      "source": [
        "To see a descriptive statistics summary of our data, including the median, average value for every column, type `df.describe()"
      ]
    },
    {
      "cell_type": "code",
      "metadata": {
        "colab": {
          "base_uri": "https://localhost:8080/",
          "height": 173
        },
        "id": "1u3lS5fE7FW9",
        "outputId": "e3ba0d9f-044e-458f-91b6-5518316d4df4"
      },
      "source": [
        "df.describe()"
      ],
      "execution_count": 10,
      "outputs": [
        {
          "output_type": "execute_result",
          "data": {
            "text/html": [
              "<div>\n",
              "<style scoped>\n",
              "    .dataframe tbody tr th:only-of-type {\n",
              "        vertical-align: middle;\n",
              "    }\n",
              "\n",
              "    .dataframe tbody tr th {\n",
              "        vertical-align: top;\n",
              "    }\n",
              "\n",
              "    .dataframe thead th {\n",
              "        text-align: right;\n",
              "    }\n",
              "</style>\n",
              "<table border=\"1\" class=\"dataframe\">\n",
              "  <thead>\n",
              "    <tr style=\"text-align: right;\">\n",
              "      <th></th>\n",
              "      <th>name</th>\n",
              "      <th>team</th>\n",
              "      <th>pos</th>\n",
              "      <th>salary</th>\n",
              "      <th>year</th>\n",
              "      <th>total_value</th>\n",
              "      <th>avg_annual</th>\n",
              "    </tr>\n",
              "  </thead>\n",
              "  <tbody>\n",
              "    <tr>\n",
              "      <th>count</th>\n",
              "      <td>876</td>\n",
              "      <td>876</td>\n",
              "      <td>876</td>\n",
              "      <td>876</td>\n",
              "      <td>876</td>\n",
              "      <td>876</td>\n",
              "      <td>876</td>\n",
              "    </tr>\n",
              "    <tr>\n",
              "      <th>unique</th>\n",
              "      <td>876</td>\n",
              "      <td>30</td>\n",
              "      <td>12</td>\n",
              "      <td>433</td>\n",
              "      <td>42</td>\n",
              "      <td>441</td>\n",
              "      <td>425</td>\n",
              "    </tr>\n",
              "    <tr>\n",
              "      <th>top</th>\n",
              "      <td>Drew Robinson</td>\n",
              "      <td>PIT</td>\n",
              "      <td>RP</td>\n",
              "      <td>$555,000</td>\n",
              "      <td>1 (2019)</td>\n",
              "      <td>$555,000</td>\n",
              "      <td>$555,000</td>\n",
              "    </tr>\n",
              "    <tr>\n",
              "      <th>freq</th>\n",
              "      <td>1</td>\n",
              "      <td>33</td>\n",
              "      <td>271</td>\n",
              "      <td>41</td>\n",
              "      <td>666</td>\n",
              "      <td>41</td>\n",
              "      <td>41</td>\n",
              "    </tr>\n",
              "  </tbody>\n",
              "</table>\n",
              "</div>"
            ],
            "text/plain": [
              "                 name team  pos    salary      year total_value avg_annual\n",
              "count             876  876  876       876       876         876        876\n",
              "unique            876   30   12       433        42         441        425\n",
              "top     Drew Robinson  PIT   RP  $555,000  1 (2019)    $555,000   $555,000\n",
              "freq                1   33  271        41       666          41         41"
            ]
          },
          "metadata": {
            "tags": []
          },
          "execution_count": 10
        }
      ]
    },
    {
      "cell_type": "markdown",
      "metadata": {
        "id": "QeeweYmr7Vyj"
      },
      "source": [
        "# Clean data\n",
        "\n",
        "**Clean data to do list**\n",
        "- make sure that numerical values are recognized as such\n"
      ]
    },
    {
      "cell_type": "code",
      "metadata": {
        "colab": {
          "base_uri": "https://localhost:8080/",
          "height": 80
        },
        "id": "tmYfZoYD7Pe5",
        "outputId": "a843f702-117b-43bb-9b2f-2ac44698fba0"
      },
      "source": [
        "df.sample()"
      ],
      "execution_count": 11,
      "outputs": [
        {
          "output_type": "execute_result",
          "data": {
            "text/html": [
              "<div>\n",
              "<style scoped>\n",
              "    .dataframe tbody tr th:only-of-type {\n",
              "        vertical-align: middle;\n",
              "    }\n",
              "\n",
              "    .dataframe tbody tr th {\n",
              "        vertical-align: top;\n",
              "    }\n",
              "\n",
              "    .dataframe thead th {\n",
              "        text-align: right;\n",
              "    }\n",
              "</style>\n",
              "<table border=\"1\" class=\"dataframe\">\n",
              "  <thead>\n",
              "    <tr style=\"text-align: right;\">\n",
              "      <th></th>\n",
              "      <th>name</th>\n",
              "      <th>team</th>\n",
              "      <th>pos</th>\n",
              "      <th>salary</th>\n",
              "      <th>year</th>\n",
              "      <th>total_value</th>\n",
              "      <th>avg_annual</th>\n",
              "    </tr>\n",
              "  </thead>\n",
              "  <tbody>\n",
              "    <tr>\n",
              "      <th>619</th>\n",
              "      <td>Keon Broxton</td>\n",
              "      <td>NYM</td>\n",
              "      <td>CF</td>\n",
              "      <td>$571,765</td>\n",
              "      <td>1 (2019)</td>\n",
              "      <td>$571,765</td>\n",
              "      <td>$571,765</td>\n",
              "    </tr>\n",
              "  </tbody>\n",
              "</table>\n",
              "</div>"
            ],
            "text/plain": [
              "             name team pos    salary      year total_value avg_annual\n",
              "619  Keon Broxton  NYM  CF  $571,765  1 (2019)    $571,765   $571,765"
            ]
          },
          "metadata": {
            "tags": []
          },
          "execution_count": 11
        }
      ]
    },
    {
      "cell_type": "code",
      "metadata": {
        "id": "5dZxKLmk7sMJ"
      },
      "source": [
        "\n",
        "df['total_valueClean'] = df['total_value'].str.replace('$', '')\n"
      ],
      "execution_count": 12,
      "outputs": []
    },
    {
      "cell_type": "code",
      "metadata": {
        "colab": {
          "base_uri": "https://localhost:8080/",
          "height": 204
        },
        "id": "1Yd8f1R-7-nD",
        "outputId": "d8f941ca-3e8e-48da-cc4f-c035d814faed"
      },
      "source": [
        "df.head()"
      ],
      "execution_count": 13,
      "outputs": [
        {
          "output_type": "execute_result",
          "data": {
            "text/html": [
              "<div>\n",
              "<style scoped>\n",
              "    .dataframe tbody tr th:only-of-type {\n",
              "        vertical-align: middle;\n",
              "    }\n",
              "\n",
              "    .dataframe tbody tr th {\n",
              "        vertical-align: top;\n",
              "    }\n",
              "\n",
              "    .dataframe thead th {\n",
              "        text-align: right;\n",
              "    }\n",
              "</style>\n",
              "<table border=\"1\" class=\"dataframe\">\n",
              "  <thead>\n",
              "    <tr style=\"text-align: right;\">\n",
              "      <th></th>\n",
              "      <th>name</th>\n",
              "      <th>team</th>\n",
              "      <th>pos</th>\n",
              "      <th>salary</th>\n",
              "      <th>year</th>\n",
              "      <th>total_value</th>\n",
              "      <th>avg_annual</th>\n",
              "      <th>total_valueClean</th>\n",
              "    </tr>\n",
              "  </thead>\n",
              "  <tbody>\n",
              "    <tr>\n",
              "      <th>2</th>\n",
              "      <td>Stephen Strasburg</td>\n",
              "      <td>WSH</td>\n",
              "      <td>SP</td>\n",
              "      <td>$36,428,571</td>\n",
              "      <td>7 (2017-23)</td>\n",
              "      <td>$175,000,000</td>\n",
              "      <td>$25,000,000</td>\n",
              "      <td>175,000,000</td>\n",
              "    </tr>\n",
              "    <tr>\n",
              "      <th>3</th>\n",
              "      <td>Mike Trout</td>\n",
              "      <td>LAA</td>\n",
              "      <td>CF</td>\n",
              "      <td>$34,083,333</td>\n",
              "      <td>6 (2015-20)</td>\n",
              "      <td>$144,500,000</td>\n",
              "      <td>$24,083,333</td>\n",
              "      <td>144,500,000</td>\n",
              "    </tr>\n",
              "    <tr>\n",
              "      <th>4</th>\n",
              "      <td>Zack Greinke</td>\n",
              "      <td>ARI</td>\n",
              "      <td>SP</td>\n",
              "      <td>$32,421,884</td>\n",
              "      <td>6 (2016-21)</td>\n",
              "      <td>$206,500,000</td>\n",
              "      <td>$34,416,667</td>\n",
              "      <td>206,500,000</td>\n",
              "    </tr>\n",
              "    <tr>\n",
              "      <th>5</th>\n",
              "      <td>David Price</td>\n",
              "      <td>BOS</td>\n",
              "      <td>SP</td>\n",
              "      <td>$31,000,000</td>\n",
              "      <td>7 (2016-22)</td>\n",
              "      <td>$217,000,000</td>\n",
              "      <td>$31,000,000</td>\n",
              "      <td>217,000,000</td>\n",
              "    </tr>\n",
              "    <tr>\n",
              "      <th>6</th>\n",
              "      <td>Clayton Kershaw</td>\n",
              "      <td>LAD</td>\n",
              "      <td>SP</td>\n",
              "      <td>$31,000,000</td>\n",
              "      <td>3 (2019-21)</td>\n",
              "      <td>$93,000,000</td>\n",
              "      <td>$31,000,000</td>\n",
              "      <td>93,000,000</td>\n",
              "    </tr>\n",
              "  </tbody>\n",
              "</table>\n",
              "</div>"
            ],
            "text/plain": [
              "                name team pos  ...   total_value   avg_annual total_valueClean\n",
              "2  Stephen Strasburg  WSH  SP  ...  $175,000,000  $25,000,000      175,000,000\n",
              "3         Mike Trout  LAA  CF  ...  $144,500,000  $24,083,333      144,500,000\n",
              "4       Zack Greinke  ARI  SP  ...  $206,500,000  $34,416,667      206,500,000\n",
              "5        David Price  BOS  SP  ...  $217,000,000  $31,000,000      217,000,000\n",
              "6    Clayton Kershaw  LAD  SP  ...   $93,000,000  $31,000,000       93,000,000\n",
              "\n",
              "[5 rows x 8 columns]"
            ]
          },
          "metadata": {
            "tags": []
          },
          "execution_count": 13
        }
      ]
    },
    {
      "cell_type": "code",
      "metadata": {
        "id": "6DEbajsr8YgE"
      },
      "source": [
        "df['total_valueClean'] = df['total_valueClean'].str.replace(',', '')\n"
      ],
      "execution_count": 14,
      "outputs": []
    },
    {
      "cell_type": "code",
      "metadata": {
        "colab": {
          "base_uri": "https://localhost:8080/",
          "height": 204
        },
        "id": "qBKStHUk9CcK",
        "outputId": "fbf94026-e99d-470c-a440-aa608dfdf5ba"
      },
      "source": [
        "df.sample(5)"
      ],
      "execution_count": 15,
      "outputs": [
        {
          "output_type": "execute_result",
          "data": {
            "text/html": [
              "<div>\n",
              "<style scoped>\n",
              "    .dataframe tbody tr th:only-of-type {\n",
              "        vertical-align: middle;\n",
              "    }\n",
              "\n",
              "    .dataframe tbody tr th {\n",
              "        vertical-align: top;\n",
              "    }\n",
              "\n",
              "    .dataframe thead th {\n",
              "        text-align: right;\n",
              "    }\n",
              "</style>\n",
              "<table border=\"1\" class=\"dataframe\">\n",
              "  <thead>\n",
              "    <tr style=\"text-align: right;\">\n",
              "      <th></th>\n",
              "      <th>name</th>\n",
              "      <th>team</th>\n",
              "      <th>pos</th>\n",
              "      <th>salary</th>\n",
              "      <th>year</th>\n",
              "      <th>total_value</th>\n",
              "      <th>avg_annual</th>\n",
              "      <th>total_valueClean</th>\n",
              "    </tr>\n",
              "  </thead>\n",
              "  <tbody>\n",
              "    <tr>\n",
              "      <th>602</th>\n",
              "      <td>Nick Williams</td>\n",
              "      <td>PHI</td>\n",
              "      <td>RF</td>\n",
              "      <td>$575,000</td>\n",
              "      <td>1 (2019)</td>\n",
              "      <td>$575,000</td>\n",
              "      <td>$575,000</td>\n",
              "      <td>575000</td>\n",
              "    </tr>\n",
              "    <tr>\n",
              "      <th>617</th>\n",
              "      <td>Jake Cave</td>\n",
              "      <td>MIN</td>\n",
              "      <td>OF</td>\n",
              "      <td>$572,500</td>\n",
              "      <td>1 (2019)</td>\n",
              "      <td>$572,500</td>\n",
              "      <td>$572,500</td>\n",
              "      <td>572500</td>\n",
              "    </tr>\n",
              "    <tr>\n",
              "      <th>775</th>\n",
              "      <td>Nick Burdi</td>\n",
              "      <td>PIT</td>\n",
              "      <td>RP</td>\n",
              "      <td>$559,000</td>\n",
              "      <td>1 (2019)</td>\n",
              "      <td>$559,000</td>\n",
              "      <td>$559,000</td>\n",
              "      <td>559000</td>\n",
              "    </tr>\n",
              "    <tr>\n",
              "      <th>275</th>\n",
              "      <td>Eddie Rosario</td>\n",
              "      <td>MIN</td>\n",
              "      <td>LF</td>\n",
              "      <td>$4,190,000</td>\n",
              "      <td>1 (2019)</td>\n",
              "      <td>$4,190,000</td>\n",
              "      <td>$4,190,000</td>\n",
              "      <td>4190000</td>\n",
              "    </tr>\n",
              "    <tr>\n",
              "      <th>3</th>\n",
              "      <td>Mike Trout</td>\n",
              "      <td>LAA</td>\n",
              "      <td>CF</td>\n",
              "      <td>$34,083,333</td>\n",
              "      <td>6 (2015-20)</td>\n",
              "      <td>$144,500,000</td>\n",
              "      <td>$24,083,333</td>\n",
              "      <td>144500000</td>\n",
              "    </tr>\n",
              "  </tbody>\n",
              "</table>\n",
              "</div>"
            ],
            "text/plain": [
              "              name team pos  ...   total_value   avg_annual total_valueClean\n",
              "602  Nick Williams  PHI  RF  ...      $575,000     $575,000           575000\n",
              "617      Jake Cave  MIN  OF  ...      $572,500     $572,500           572500\n",
              "775     Nick Burdi  PIT  RP  ...      $559,000     $559,000           559000\n",
              "275  Eddie Rosario  MIN  LF  ...    $4,190,000   $4,190,000          4190000\n",
              "3       Mike Trout  LAA  CF  ...  $144,500,000  $24,083,333        144500000\n",
              "\n",
              "[5 rows x 8 columns]"
            ]
          },
          "metadata": {
            "tags": []
          },
          "execution_count": 15
        }
      ]
    },
    {
      "cell_type": "markdown",
      "metadata": {
        "id": "Ruxbrmyv9QJ8"
      },
      "source": [
        "Now, let's see if this did the trick. Use `df.dtypes` to see if the ValueClean column is now a float datatype..."
      ]
    },
    {
      "cell_type": "code",
      "metadata": {
        "colab": {
          "base_uri": "https://localhost:8080/"
        },
        "id": "ynKTsKcn9FnB",
        "outputId": "0bddaf16-480e-404e-c9f3-30e47ef076b2"
      },
      "source": [
        "df.dtypes"
      ],
      "execution_count": 16,
      "outputs": [
        {
          "output_type": "execute_result",
          "data": {
            "text/plain": [
              "name                object\n",
              "team                object\n",
              "pos                 object\n",
              "salary              object\n",
              "year                object\n",
              "total_value         object\n",
              "avg_annual          object\n",
              "total_valueClean    object\n",
              "dtype: object"
            ]
          },
          "metadata": {
            "tags": []
          },
          "execution_count": 16
        }
      ]
    },
    {
      "cell_type": "markdown",
      "metadata": {
        "id": "heSF1CLc_Lm1"
      },
      "source": [
        "## Heatmap to visulaize the missing data\n"
      ]
    },
    {
      "cell_type": "code",
      "metadata": {
        "colab": {
          "base_uri": "https://localhost:8080/",
          "height": 339
        },
        "id": "CaPdoKnh_KmN",
        "outputId": "02a84918-6dd2-465c-f2d4-fb90e4441671"
      },
      "source": [
        "import seaborn as sns\n",
        "sns.heatmap(df.isnull(), yticklabels=False, cbar=False, cmap='viridis');\n"
      ],
      "execution_count": 17,
      "outputs": [
        {
          "output_type": "display_data",
          "data": {
            "image/png": "[encoded data removed]",
            "text/plain": [
              "<Figure size 432x288 with 1 Axes>"
            ]
          },
          "metadata": {
            "tags": [],
            "needs_background": "light"
          }
        }
      ]
    },
    {
      "cell_type": "markdown",
      "metadata": {
        "id": "jqOBNhPh9s78"
      },
      "source": [
        "Didn't work, huh? That's because we need to explicitly tell Python that the Clean columns contains float numbers. We can use a Pandas function to do this - like all Pandas functions this one too starts with `pd.`:\n",
        "\n",
        "`df['ValueClean'] = pd.to_numeric(df['ValueClean'])`"
      ]
    },
    {
      "cell_type": "code",
      "metadata": {
        "id": "hov6w__j9b6U"
      },
      "source": [
        "\n",
        "df['total_valueClean'] = pd.to_numeric(df['total_valueClean'])\n"
      ],
      "execution_count": 18,
      "outputs": []
    },
    {
      "cell_type": "code",
      "metadata": {
        "colab": {
          "base_uri": "https://localhost:8080/"
        },
        "id": "kGyueC0LkkN6",
        "outputId": "6c5844d9-2f2f-4885-be67-0bb5fd66ff8f"
      },
      "source": [
        "df.dtypes"
      ],
      "execution_count": 19,
      "outputs": [
        {
          "output_type": "execute_result",
          "data": {
            "text/plain": [
              "name                object\n",
              "team                object\n",
              "pos                 object\n",
              "salary              object\n",
              "year                object\n",
              "total_value         object\n",
              "avg_annual          object\n",
              "total_valueClean     int64\n",
              "dtype: object"
            ]
          },
          "metadata": {
            "tags": []
          },
          "execution_count": 19
        }
      ]
    },
    {
      "cell_type": "code",
      "metadata": {
        "colab": {
          "base_uri": "https://localhost:8080/",
          "height": 80
        },
        "id": "gJd01DIOliKz",
        "outputId": "1e18ad4a-1f7e-4f13-b02b-2c4b87586cde"
      },
      "source": [
        "df = df.rename(columns={'total_valueClean': 'total_salary'})\n",
        "df.sample()"
      ],
      "execution_count": 30,
      "outputs": [
        {
          "output_type": "execute_result",
          "data": {
            "text/html": [
              "<div>\n",
              "<style scoped>\n",
              "    .dataframe tbody tr th:only-of-type {\n",
              "        vertical-align: middle;\n",
              "    }\n",
              "\n",
              "    .dataframe tbody tr th {\n",
              "        vertical-align: top;\n",
              "    }\n",
              "\n",
              "    .dataframe thead th {\n",
              "        text-align: right;\n",
              "    }\n",
              "</style>\n",
              "<table border=\"1\" class=\"dataframe\">\n",
              "  <thead>\n",
              "    <tr style=\"text-align: right;\">\n",
              "      <th></th>\n",
              "      <th>name</th>\n",
              "      <th>team</th>\n",
              "      <th>pos</th>\n",
              "      <th>salary</th>\n",
              "      <th>year</th>\n",
              "      <th>total_value</th>\n",
              "      <th>avg_annual</th>\n",
              "      <th>total_salary</th>\n",
              "    </tr>\n",
              "  </thead>\n",
              "  <tbody>\n",
              "    <tr>\n",
              "      <th>603</th>\n",
              "      <td>Brandon Brennan</td>\n",
              "      <td>SEA</td>\n",
              "      <td>RP</td>\n",
              "      <td>$575,000</td>\n",
              "      <td>1 (2019)</td>\n",
              "      <td>$575,000</td>\n",
              "      <td>$575,000</td>\n",
              "      <td>575000</td>\n",
              "    </tr>\n",
              "  </tbody>\n",
              "</table>\n",
              "</div>"
            ],
            "text/plain": [
              "                name team pos  ... total_value avg_annual total_salary\n",
              "603  Brandon Brennan  SEA  RP  ...    $575,000   $575,000       575000\n",
              "\n",
              "[1 rows x 8 columns]"
            ]
          },
          "metadata": {
            "tags": []
          },
          "execution_count": 30
        }
      ]
    },
    {
      "cell_type": "code",
      "metadata": {
        "colab": {
          "base_uri": "https://localhost:8080/",
          "height": 204
        },
        "id": "ZvKvgR3Voeu2",
        "outputId": "3eeb5d0d-c4cb-42c9-a95e-c81f47b8807f"
      },
      "source": [
        "df = df.dropna()\n",
        "df.head()"
      ],
      "execution_count": 31,
      "outputs": [
        {
          "output_type": "execute_result",
          "data": {
            "text/html": [
              "<div>\n",
              "<style scoped>\n",
              "    .dataframe tbody tr th:only-of-type {\n",
              "        vertical-align: middle;\n",
              "    }\n",
              "\n",
              "    .dataframe tbody tr th {\n",
              "        vertical-align: top;\n",
              "    }\n",
              "\n",
              "    .dataframe thead th {\n",
              "        text-align: right;\n",
              "    }\n",
              "</style>\n",
              "<table border=\"1\" class=\"dataframe\">\n",
              "  <thead>\n",
              "    <tr style=\"text-align: right;\">\n",
              "      <th></th>\n",
              "      <th>name</th>\n",
              "      <th>team</th>\n",
              "      <th>pos</th>\n",
              "      <th>salary</th>\n",
              "      <th>year</th>\n",
              "      <th>total_value</th>\n",
              "      <th>avg_annual</th>\n",
              "      <th>total_salary</th>\n",
              "    </tr>\n",
              "  </thead>\n",
              "  <tbody>\n",
              "    <tr>\n",
              "      <th>2</th>\n",
              "      <td>Stephen Strasburg</td>\n",
              "      <td>WSH</td>\n",
              "      <td>SP</td>\n",
              "      <td>$36,428,571</td>\n",
              "      <td>7 (2017-23)</td>\n",
              "      <td>$175,000,000</td>\n",
              "      <td>$25,000,000</td>\n",
              "      <td>175000000</td>\n",
              "    </tr>\n",
              "    <tr>\n",
              "      <th>3</th>\n",
              "      <td>Mike Trout</td>\n",
              "      <td>LAA</td>\n",
              "      <td>CF</td>\n",
              "      <td>$34,083,333</td>\n",
              "      <td>6 (2015-20)</td>\n",
              "      <td>$144,500,000</td>\n",
              "      <td>$24,083,333</td>\n",
              "      <td>144500000</td>\n",
              "    </tr>\n",
              "    <tr>\n",
              "      <th>4</th>\n",
              "      <td>Zack Greinke</td>\n",
              "      <td>ARI</td>\n",
              "      <td>SP</td>\n",
              "      <td>$32,421,884</td>\n",
              "      <td>6 (2016-21)</td>\n",
              "      <td>$206,500,000</td>\n",
              "      <td>$34,416,667</td>\n",
              "      <td>206500000</td>\n",
              "    </tr>\n",
              "    <tr>\n",
              "      <th>5</th>\n",
              "      <td>David Price</td>\n",
              "      <td>BOS</td>\n",
              "      <td>SP</td>\n",
              "      <td>$31,000,000</td>\n",
              "      <td>7 (2016-22)</td>\n",
              "      <td>$217,000,000</td>\n",
              "      <td>$31,000,000</td>\n",
              "      <td>217000000</td>\n",
              "    </tr>\n",
              "    <tr>\n",
              "      <th>6</th>\n",
              "      <td>Clayton Kershaw</td>\n",
              "      <td>LAD</td>\n",
              "      <td>SP</td>\n",
              "      <td>$31,000,000</td>\n",
              "      <td>3 (2019-21)</td>\n",
              "      <td>$93,000,000</td>\n",
              "      <td>$31,000,000</td>\n",
              "      <td>93000000</td>\n",
              "    </tr>\n",
              "  </tbody>\n",
              "</table>\n",
              "</div>"
            ],
            "text/plain": [
              "                name team pos  ...   total_value   avg_annual total_salary\n",
              "2  Stephen Strasburg  WSH  SP  ...  $175,000,000  $25,000,000    175000000\n",
              "3         Mike Trout  LAA  CF  ...  $144,500,000  $24,083,333    144500000\n",
              "4       Zack Greinke  ARI  SP  ...  $206,500,000  $34,416,667    206500000\n",
              "5        David Price  BOS  SP  ...  $217,000,000  $31,000,000    217000000\n",
              "6    Clayton Kershaw  LAD  SP  ...   $93,000,000  $31,000,000     93000000\n",
              "\n",
              "[5 rows x 8 columns]"
            ]
          },
          "metadata": {
            "tags": []
          },
          "execution_count": 31
        }
      ]
    },
    {
      "cell_type": "markdown",
      "metadata": {
        "id": "hBgTWzK9lCnu"
      },
      "source": [
        "Now, if this looks better, let's get started and analyse some data.\n",
        "\n",
        "# Analyse data\n",
        "\n",
        "## Statistical summary\n",
        "\n",
        "In the module Clean data, you already saw the power of `df.describe()`. This function gives a basic statistical summary of every column in the dataset. It will give you even more information when you tell the function that you want everything included, like this: `df.describe(include='all')`"
      ]
    },
    {
      "cell_type": "code",
      "metadata": {
        "colab": {
          "base_uri": "https://localhost:8080/",
          "height": 390
        },
        "id": "IpnwO0mIkryQ",
        "outputId": "ba430db0-c566-48da-9e42-2e37983576ad"
      },
      "source": [
        "df.describe(include='all')"
      ],
      "execution_count": 32,
      "outputs": [
        {
          "output_type": "execute_result",
          "data": {
            "text/html": [
              "<div>\n",
              "<style scoped>\n",
              "    .dataframe tbody tr th:only-of-type {\n",
              "        vertical-align: middle;\n",
              "    }\n",
              "\n",
              "    .dataframe tbody tr th {\n",
              "        vertical-align: top;\n",
              "    }\n",
              "\n",
              "    .dataframe thead th {\n",
              "        text-align: right;\n",
              "    }\n",
              "</style>\n",
              "<table border=\"1\" class=\"dataframe\">\n",
              "  <thead>\n",
              "    <tr style=\"text-align: right;\">\n",
              "      <th></th>\n",
              "      <th>name</th>\n",
              "      <th>team</th>\n",
              "      <th>pos</th>\n",
              "      <th>salary</th>\n",
              "      <th>year</th>\n",
              "      <th>total_value</th>\n",
              "      <th>avg_annual</th>\n",
              "      <th>total_salary</th>\n",
              "    </tr>\n",
              "  </thead>\n",
              "  <tbody>\n",
              "    <tr>\n",
              "      <th>count</th>\n",
              "      <td>876</td>\n",
              "      <td>876</td>\n",
              "      <td>876</td>\n",
              "      <td>876</td>\n",
              "      <td>876</td>\n",
              "      <td>876</td>\n",
              "      <td>876</td>\n",
              "      <td>8.760000e+02</td>\n",
              "    </tr>\n",
              "    <tr>\n",
              "      <th>unique</th>\n",
              "      <td>876</td>\n",
              "      <td>30</td>\n",
              "      <td>12</td>\n",
              "      <td>433</td>\n",
              "      <td>42</td>\n",
              "      <td>441</td>\n",
              "      <td>425</td>\n",
              "      <td>NaN</td>\n",
              "    </tr>\n",
              "    <tr>\n",
              "      <th>top</th>\n",
              "      <td>Drew Robinson</td>\n",
              "      <td>PIT</td>\n",
              "      <td>RP</td>\n",
              "      <td>$555,000</td>\n",
              "      <td>1 (2019)</td>\n",
              "      <td>$555,000</td>\n",
              "      <td>$555,000</td>\n",
              "      <td>NaN</td>\n",
              "    </tr>\n",
              "    <tr>\n",
              "      <th>freq</th>\n",
              "      <td>1</td>\n",
              "      <td>33</td>\n",
              "      <td>271</td>\n",
              "      <td>41</td>\n",
              "      <td>666</td>\n",
              "      <td>41</td>\n",
              "      <td>41</td>\n",
              "      <td>NaN</td>\n",
              "    </tr>\n",
              "    <tr>\n",
              "      <th>mean</th>\n",
              "      <td>NaN</td>\n",
              "      <td>NaN</td>\n",
              "      <td>NaN</td>\n",
              "      <td>NaN</td>\n",
              "      <td>NaN</td>\n",
              "      <td>NaN</td>\n",
              "      <td>NaN</td>\n",
              "      <td>1.547975e+07</td>\n",
              "    </tr>\n",
              "    <tr>\n",
              "      <th>std</th>\n",
              "      <td>NaN</td>\n",
              "      <td>NaN</td>\n",
              "      <td>NaN</td>\n",
              "      <td>NaN</td>\n",
              "      <td>NaN</td>\n",
              "      <td>NaN</td>\n",
              "      <td>NaN</td>\n",
              "      <td>3.871066e+07</td>\n",
              "    </tr>\n",
              "    <tr>\n",
              "      <th>min</th>\n",
              "      <td>NaN</td>\n",
              "      <td>NaN</td>\n",
              "      <td>NaN</td>\n",
              "      <td>NaN</td>\n",
              "      <td>NaN</td>\n",
              "      <td>NaN</td>\n",
              "      <td>NaN</td>\n",
              "      <td>1.000000e+05</td>\n",
              "    </tr>\n",
              "    <tr>\n",
              "      <th>25%</th>\n",
              "      <td>NaN</td>\n",
              "      <td>NaN</td>\n",
              "      <td>NaN</td>\n",
              "      <td>NaN</td>\n",
              "      <td>NaN</td>\n",
              "      <td>NaN</td>\n",
              "      <td>NaN</td>\n",
              "      <td>5.675000e+05</td>\n",
              "    </tr>\n",
              "    <tr>\n",
              "      <th>50%</th>\n",
              "      <td>NaN</td>\n",
              "      <td>NaN</td>\n",
              "      <td>NaN</td>\n",
              "      <td>NaN</td>\n",
              "      <td>NaN</td>\n",
              "      <td>NaN</td>\n",
              "      <td>NaN</td>\n",
              "      <td>1.500000e+06</td>\n",
              "    </tr>\n",
              "    <tr>\n",
              "      <th>75%</th>\n",
              "      <td>NaN</td>\n",
              "      <td>NaN</td>\n",
              "      <td>NaN</td>\n",
              "      <td>NaN</td>\n",
              "      <td>NaN</td>\n",
              "      <td>NaN</td>\n",
              "      <td>NaN</td>\n",
              "      <td>8.681250e+06</td>\n",
              "    </tr>\n",
              "    <tr>\n",
              "      <th>max</th>\n",
              "      <td>NaN</td>\n",
              "      <td>NaN</td>\n",
              "      <td>NaN</td>\n",
              "      <td>NaN</td>\n",
              "      <td>NaN</td>\n",
              "      <td>NaN</td>\n",
              "      <td>NaN</td>\n",
              "      <td>3.300000e+08</td>\n",
              "    </tr>\n",
              "  </tbody>\n",
              "</table>\n",
              "</div>"
            ],
            "text/plain": [
              "                 name team  pos  ... total_value avg_annual  total_salary\n",
              "count             876  876  876  ...         876        876  8.760000e+02\n",
              "unique            876   30   12  ...         441        425           NaN\n",
              "top     Drew Robinson  PIT   RP  ...    $555,000   $555,000           NaN\n",
              "freq                1   33  271  ...          41         41           NaN\n",
              "mean              NaN  NaN  NaN  ...         NaN        NaN  1.547975e+07\n",
              "std               NaN  NaN  NaN  ...         NaN        NaN  3.871066e+07\n",
              "min               NaN  NaN  NaN  ...         NaN        NaN  1.000000e+05\n",
              "25%               NaN  NaN  NaN  ...         NaN        NaN  5.675000e+05\n",
              "50%               NaN  NaN  NaN  ...         NaN        NaN  1.500000e+06\n",
              "75%               NaN  NaN  NaN  ...         NaN        NaN  8.681250e+06\n",
              "max               NaN  NaN  NaN  ...         NaN        NaN  3.300000e+08\n",
              "\n",
              "[11 rows x 8 columns]"
            ]
          },
          "metadata": {
            "tags": []
          },
          "execution_count": 32
        }
      ]
    },
    {
      "cell_type": "markdown",
      "metadata": {
        "id": "_2LcOAuemEjy"
      },
      "source": [
        "## Sum\n",
        "\n",
        " Use `df['Value'].sum()`."
      ]
    },
    {
      "cell_type": "code",
      "metadata": {
        "colab": {
          "base_uri": "https://localhost:8080/"
        },
        "id": "6Ws8qDPxlJj6",
        "outputId": "cdfa0ca1-1d05-49bd-8dd9-929dc90c4b08"
      },
      "source": [
        "df['total_salary'].sum()"
      ],
      "execution_count": 33,
      "outputs": [
        {
          "output_type": "execute_result",
          "data": {
            "text/plain": [
              "13560257353"
            ]
          },
          "metadata": {
            "tags": []
          },
          "execution_count": 33
        }
      ]
    },
    {
      "cell_type": "markdown",
      "metadata": {
        "id": "9IIGz0NEqECH"
      },
      "source": [
        "## Count the Teams"
      ]
    },
    {
      "cell_type": "code",
      "metadata": {
        "colab": {
          "base_uri": "https://localhost:8080/"
        },
        "id": "GwXVbDhTmdCJ",
        "outputId": "0100976d-e8cf-4f78-e048-0aa602bd708b"
      },
      "source": [
        "df['team'].value_counts()"
      ],
      "execution_count": 34,
      "outputs": [
        {
          "output_type": "execute_result",
          "data": {
            "text/plain": [
              "PIT    33\n",
              "LAA    33\n",
              "NYY    32\n",
              "OAK    32\n",
              "SD     32\n",
              "TOR    32\n",
              "KC     31\n",
              "STL    30\n",
              "NYM    30\n",
              "CHC    30\n",
              "MIL    30\n",
              "SEA    30\n",
              "ARI    29\n",
              "BOS    29\n",
              "ATL    29\n",
              "MIN    29\n",
              "CLE    29\n",
              "CWS    28\n",
              "TB     28\n",
              "DET    28\n",
              "TEX    28\n",
              "BAL    28\n",
              "LAD    28\n",
              "HOU    27\n",
              "PHI    27\n",
              "COL    27\n",
              "CIN    27\n",
              "MIA    27\n",
              "WSH    27\n",
              "SF     26\n",
              "Name: team, dtype: int64"
            ]
          },
          "metadata": {
            "tags": []
          },
          "execution_count": 34
        }
      ]
    },
    {
      "cell_type": "markdown",
      "metadata": {
        "id": "y0pnEywPrKc9"
      },
      "source": [
        "## Groupby"
      ]
    },
    {
      "cell_type": "code",
      "metadata": {
        "colab": {
          "base_uri": "https://localhost:8080/"
        },
        "id": "KvLvwBS9qSGP",
        "outputId": "f3c05cca-38c5-498e-ce0c-58238153eba5"
      },
      "source": [
        "team = df.groupby('team')['total_salary'].sum()\n",
        "team.head(10)"
      ],
      "execution_count": 35,
      "outputs": [
        {
          "output_type": "execute_result",
          "data": {
            "text/plain": [
              "team\n",
              "ARI    331547100\n",
              "ATL    299700000\n",
              "BAL    293008368\n",
              "BOS    701555000\n",
              "CHC    726261000\n",
              "CIN    566142500\n",
              "CLE    299716700\n",
              "COL    386963500\n",
              "CWS    195752000\n",
              "DET    448673400\n",
              "Name: total_salary, dtype: int64"
            ]
          },
          "metadata": {
            "tags": []
          },
          "execution_count": 35
        }
      ]
    },
    {
      "cell_type": "markdown",
      "metadata": {
        "id": "bdW7IcT_WFkr"
      },
      "source": [
        "# Plot"
      ]
    },
    {
      "cell_type": "code",
      "metadata": {
        "colab": {
          "base_uri": "https://localhost:8080/",
          "height": 277
        },
        "id": "Z_S2GF9Etcw8",
        "outputId": "2da7120f-7017-47c5-c66c-842582b95732"
      },
      "source": [
        "df['team'].value_counts().head(10).plot.bar();"
      ],
      "execution_count": 36,
      "outputs": [
        {
          "output_type": "display_data",
          "data": {
            "image/png": "[encoded data removed]",
            "text/plain": [
              "<Figure size 432x288 with 1 Axes>"
            ]
          },
          "metadata": {
            "tags": [],
            "needs_background": "light"
          }
        }
      ]
    },
    {
      "cell_type": "code",
      "metadata": {
        "colab": {
          "base_uri": "https://localhost:8080/",
          "height": 299
        },
        "id": "b_Ncv861-H0f",
        "outputId": "b7d03c92-6a84-4c6e-810a-8b08084d358c"
      },
      "source": [
        "df['total_salary'].value_counts().head(10).plot.bar();"
      ],
      "execution_count": 37,
      "outputs": [
        {
          "output_type": "display_data",
          "data": {
            "image/png": "[encoded data removed]",
            "text/plain": [
              "<Figure size 432x288 with 1 Axes>"
            ]
          },
          "metadata": {
            "tags": [],
            "needs_background": "light"
          }
        }
      ]
    },
    {
      "cell_type": "markdown",
      "metadata": {
        "id": "92m_0IUk_YLF"
      },
      "source": [
        "# Salary Distribution"
      ]
    },
    {
      "cell_type": "code",
      "metadata": {
        "colab": {
          "base_uri": "https://localhost:8080/",
          "height": 291
        },
        "id": "0v6zthD7-aaO",
        "outputId": "75ffcbcd-6cfe-4912-ec87-e25c51b0af60"
      },
      "source": [
        "#Histogram and KDE\n",
        "plt.figure(figsize=(8, 4))\n",
        "sns.distplot(df['total_salary'], bins=40);"
      ],
      "execution_count": 42,
      "outputs": [
        {
          "output_type": "display_data",
          "data": {
            "image/png": "[encoded data removed]",
            "text/plain": [
              "<Figure size 576x288 with 1 Axes>"
            ]
          },
          "metadata": {
            "tags": [],
            "needs_background": "light"
          }
        }
      ]
    },
    {
      "cell_type": "code",
      "metadata": {
        "colab": {
          "base_uri": "https://localhost:8080/",
          "height": 289
        },
        "id": "DX1asY-L_iPo",
        "outputId": "60a205ae-bf7f-471a-af10-880cfb60641a"
      },
      "source": [
        "#Probability Density Function (PDF) Chart\n",
        "\n",
        "import scipy.stats as st\n",
        "\n",
        "x = df['total_salary']\n",
        "\n",
        "plt.figure(figsize=(8, 4))\n",
        "plt.plot(x, st.norm.pdf(x, x.mean(), x.std()))\n",
        "plt.show()"
      ],
      "execution_count": 43,
      "outputs": [
        {
          "output_type": "display_data",
          "data": {
            "image/png": "[encoded data removed]",
            "text/plain": [
              "<Figure size 576x288 with 1 Axes>"
            ]
          },
          "metadata": {
            "tags": [],
            "needs_background": "light"
          }
        }
      ]
    },
    {
      "cell_type": "markdown",
      "metadata": {
        "id": "GQckS3JVAWEb"
      },
      "source": [
        "# Normalizing the salary data\n"
      ]
    },
    {
      "cell_type": "code",
      "metadata": {
        "colab": {
          "base_uri": "https://localhost:8080/",
          "height": 280
        },
        "id": "-kXsyhYZ_zOQ",
        "outputId": "3bcfa83b-ab66-40b8-9e02-21d730410242"
      },
      "source": [
        "#Creating a column with the salary log to normalize the distribution\n",
        "\n",
        "import numpy as np\n",
        "df['salary_log'] = np.log1p(df['total_salary'])\n",
        "sns.distplot(df['salary_log'], bins=25);"
      ],
      "execution_count": 44,
      "outputs": [
        {
          "output_type": "display_data",
          "data": {
            "image/png": "[encoded data removed]",
            "text/plain": [
              "<Figure size 432x288 with 1 Axes>"
            ]
          },
          "metadata": {
            "tags": [],
            "needs_background": "light"
          }
        }
      ]
    },
    {
      "cell_type": "code",
      "metadata": {
        "colab": {
          "base_uri": "https://localhost:8080/",
          "height": 280
        },
        "id": "gTbXdiJ1Ak3i",
        "outputId": "171baeb6-5bb6-48fb-e2b9-92ec5576c739"
      },
      "source": [
        "#Dividing by the mean and standard deviation to standardize the serie in a new column\n",
        "df['norm_log_salary'] = ((df['salary_log'] - df['salary_log'].mean()) / df['salary_log'].std())\n",
        "sns.distplot(df['norm_log_salary'], bins=25);"
      ],
      "execution_count": 46,
      "outputs": [
        {
          "output_type": "display_data",
          "data": {
            "image/png": "[encoded data removed]",
            "text/plain": [
              "<Figure size 432x288 with 1 Axes>"
            ]
          },
          "metadata": {
            "tags": [],
            "needs_background": "light"
          }
        }
      ]
    },
    {
      "cell_type": "markdown",
      "metadata": {
        "id": "fI_3BcQPBVYM"
      },
      "source": [
        "# Mean and Standard Deviation"
      ]
    },
    {
      "cell_type": "code",
      "metadata": {
        "colab": {
          "base_uri": "https://localhost:8080/"
        },
        "id": "OXbuNh3XBHUc",
        "outputId": "b1674786-39fd-490f-a526-db6c5989a559"
      },
      "source": [
        "print(f\"\"\"Mean: {df.norm_log_salary.mean():.4f}\n",
        "Standard: {df.norm_log_salary.std():.4f}\"\"\")"
      ],
      "execution_count": 47,
      "outputs": [
        {
          "output_type": "stream",
          "text": [
            "Mean: -0.0000\n",
            "Standard: 1.0000\n"
          ],
          "name": "stdout"
        }
      ]
    },
    {
      "cell_type": "markdown",
      "metadata": {
        "id": "gMHK6p7CBz9v"
      },
      "source": [
        "# P-Value to 2 std"
      ]
    },
    {
      "cell_type": "code",
      "metadata": {
        "colab": {
          "base_uri": "https://localhost:8080/"
        },
        "id": "yz7jd4g-Bk2-",
        "outputId": "52e183c1-1a59-4d2e-fc88-ee5d3b61ea4b"
      },
      "source": [
        "norm_mean = df.norm_log_salary.mean()\n",
        "norm_std = df.norm_log_salary.std()\n",
        "\n",
        "p_value = st.norm(norm_mean, norm_std).sf(2*norm_std) * 2 #to sides\n",
        "p_value"
      ],
      "execution_count": 48,
      "outputs": [
        {
          "output_type": "execute_result",
          "data": {
            "text/plain": [
              "0.04550026389635814"
            ]
          },
          "metadata": {
            "tags": []
          },
          "execution_count": 48
        }
      ]
    },
    {
      "cell_type": "markdown",
      "metadata": {
        "id": "Q_lqCaD0CKZp"
      },
      "source": [
        "# Calculating z-score"
      ]
    },
    {
      "cell_type": "code",
      "metadata": {
        "colab": {
          "base_uri": "https://localhost:8080/"
        },
        "id": "Vrv8ixUCCCI3",
        "outputId": "123bc6b1-55d2-4fe9-bcc4-2e62b50dd15e"
      },
      "source": [
        "z_score_inf = st.norm.interval(alpha=0.95, loc=norm_mean, scale=norm_std)[0]\n",
        "z_score_sup = st.norm.interval(alpha=0.95, loc=norm_mean, scale=norm_std)[1]\n",
        "\n",
        "print(f'{z_score_inf:.4f} <--------> {z_score_sup:.4f}')"
      ],
      "execution_count": 49,
      "outputs": [
        {
          "output_type": "stream",
          "text": [
            "-1.9600 <--------> 1.9600\n"
          ],
          "name": "stdout"
        }
      ]
    },
    {
      "cell_type": "markdown",
      "metadata": {
        "id": "56u9Y-3hC1K9"
      },
      "source": [
        "With the Alpha limits of 0.95 we can run the inference and find out which players are earning above or below average with a 95% confidence level."
      ]
    },
    {
      "cell_type": "code",
      "metadata": {
        "id": "Dt2nCVPaCcCs"
      },
      "source": [
        ""
      ],
      "execution_count": null,
      "outputs": []
    }
  ]
}